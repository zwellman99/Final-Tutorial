{
  "nbformat": 4,
  "nbformat_minor": 0,
  "metadata": {
    "colab": {
      "provenance": [],
      "include_colab_link": true
    },
    "kernelspec": {
      "name": "python3",
      "display_name": "Python 3"
    },
    "language_info": {
      "name": "python"
    }
  },
  "cells": [
    {
      "cell_type": "markdown",
      "metadata": {
        "id": "view-in-github",
        "colab_type": "text"
      },
      "source": [
        "<a href=\"https://colab.research.google.com/github/zwellman99/Final-Tutorial/blob/main/ExpectedCost.ipynb\" target=\"_parent\"><img src=\"https://colab.research.google.com/assets/colab-badge.svg\" alt=\"Open In Colab\"/></a>"
      ]
    },
    {
      "cell_type": "code",
      "execution_count": null,
      "metadata": {
        "id": "5F2GDxd4Mnhp",
        "outputId": "6f81b979-1c33-4753-8788-04b6898649db",
        "colab": {
          "base_uri": "https://localhost:8080/"
        }
      },
      "outputs": [
        {
          "output_type": "stream",
          "name": "stdout",
          "text": [
            "For customizable cost, type Y.  For basic cost, type N: N\n",
            "25 0.0 0.0\n"
          ]
        }
      ],
      "source": [
        "def cost_type():\n",
        "  decision = input(\"For customizable cost, type Y.  For basic cost, type N: \")\n",
        "  if decision == \"Y\":\n",
        "    return(get_custom_inputs())\n",
        "  elif decision == \"N\":\n",
        "    #returns base factors\n",
        "    return(25, .00, .00)\n",
        "  else:\n",
        "    cost_type()\n",
        "\n",
        "def try_float(input_value, default_value):\n",
        "    try:\n",
        "        return float(input_value)\n",
        "    except ValueError:\n",
        "        return default_value\\\n",
        "\n",
        "def get_custom_inputs():\n",
        "  print(\"\\nFor each of the following inputs, please answer in the provided format. \\nIf you do not know the answer, type NA\\n\")\n",
        "  year_input = input(\"Enter your car's year (ex. 2011): \")\n",
        "  mpg_input = input(\"Enter your car's mpg (ex. 25.0): \")\n",
        "  mileage_input = input(\"Enter your car's est. mileage (ex. 65000): \")\n",
        "  value_input = input(\"Enter your car's est. value (ex. 15000): \")\n",
        "\n",
        "  year = try_float(year_input, 11)\n",
        "  mpg = try_float(mpg_input, 25)\n",
        "  mileage = try_float(mileage_input, 65000)\n",
        "  value = try_float(value_input, 15000)\n",
        "\n",
        "  age = 2023-year\n",
        "  \n",
        "  #insert parameters for depreciation and maintenance costs\n",
        "  if age < 5 and mileage < 67500:\n",
        "    depr_factor = 0.12\n",
        "  elif age > 5 and mileage < 67500:\n",
        "    depr_factor = 0.1\n",
        "  elif age < 5 and mileage > 67500:\n",
        "    depr_factor = 0.1\n",
        "  else:\n",
        "    depr_factor = 0.08\n",
        "  maint_factor = 1\n",
        "\n",
        "  return(mpg, depr_factor, maint_factor)\n",
        "\n",
        "\n",
        "mpg, depr_factor, maint_factor = cost_type()\n",
        "print(mpg,depr_factor,maint_factor)"
      ]
    },
    {
      "cell_type": "code",
      "source": [
        "def get_cost(distance, mpg=mpg, depr_factor=depr_factor, maint_factor=maint_factor):\n",
        "  total_cost = (distance/mpg)*3 + depr_factor*distance + maint_factor*distance\n",
        "  return(total_cost)\n",
        "\n",
        "get_cost(5)"
      ],
      "metadata": {
        "id": "8ohMNI8lMq0R",
        "outputId": "314d2cf0-8811-4768-f667-f30805573fbb",
        "colab": {
          "base_uri": "https://localhost:8080/"
        }
      },
      "execution_count": null,
      "outputs": [
        {
          "output_type": "execute_result",
          "data": {
            "text/plain": [
              "0.6000000000000001"
            ]
          },
          "metadata": {},
          "execution_count": 2
        }
      ]
    }
  ]
}